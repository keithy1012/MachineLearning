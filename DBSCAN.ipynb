{
  "nbformat": 4,
  "nbformat_minor": 0,
  "metadata": {
    "colab": {
      "provenance": [],
      "authorship_tag": "ABX9TyP0o+by1F3rMdws8/xx0xU8",
      "include_colab_link": true
    },
    "kernelspec": {
      "name": "python3",
      "display_name": "Python 3"
    },
    "language_info": {
      "name": "python"
    }
  },
  "cells": [
    {
      "cell_type": "markdown",
      "metadata": {
        "id": "view-in-github",
        "colab_type": "text"
      },
      "source": [
        "<a href=\"https://colab.research.google.com/github/keithy1012/MachineLearning/blob/main/DBSCAN.ipynb\" target=\"_parent\"><img src=\"https://colab.research.google.com/assets/colab-badge.svg\" alt=\"Open In Colab\"/></a>"
      ]
    },
    {
      "cell_type": "code",
      "execution_count": 23,
      "metadata": {
        "id": "umG5QtPw8n3f"
      },
      "outputs": [],
      "source": [
        "import numpy as np\n",
        "\n",
        "class DBSCAN:\n",
        "  def __init__(self, eps, min_pts):\n",
        "    self.eps = eps\n",
        "    self.min_pts = min_pts\n",
        "    self.clusters = {\"core\": [],\n",
        "                    \"border\": [],\n",
        "                    \"noise\": []}\n",
        "\n",
        "\n",
        "  def distance(self, p1, p2):\n",
        "    return np.linalg.norm(p1 - p2)\n",
        "\n",
        "  def fit(self, X):\n",
        "    n_samples, n_features= X.shape\n",
        "\n",
        "    for i in range(n_samples):\n",
        "      curr_point = X[i]\n",
        "      print(curr_point)\n",
        "      num_neighbors = 0\n",
        "      for j in range(n_samples):\n",
        "        if i == j:\n",
        "          continue\n",
        "        neighbor = X[j]\n",
        "\n",
        "        if self.distance(curr_point, neighbor) <= self.eps:\n",
        "          num_neighbors += 1\n",
        "\n",
        "      if num_neighbors >= self.min_pts:\n",
        "        self.clusters[\"core\"].append(curr_point)\n",
        "      elif num_neighbors > 0:\n",
        "        self.clusters[\"border\"].append(curr_point)\n",
        "      else:\n",
        "        self.clusters[\"noise\"].append(curr_point)\n",
        "\n",
        "    return self.clusters"
      ]
    },
    {
      "cell_type": "code",
      "source": [
        "dbscan = DBSCAN(eps=0.5, min_pts=2)\n",
        "test_array = np.array([\n",
        "    [0.1, 0.2],\n",
        "    [0.15, 0.25],\n",
        "    [0.2, 0.3],\n",
        "    [5.0, 5.0],\n",
        "    [5.1, 5.1],\n",
        "    [10.0, 10.0],\n",
        "    [1000.0, 1500.0]\n",
        "])\n",
        "clusters = dbscan.fit(test_array)\n",
        "print(clusters)\n"
      ],
      "metadata": {
        "colab": {
          "base_uri": "https://localhost:8080/"
        },
        "id": "S-nZ60mF-smR",
        "outputId": "3981d368-b93d-4d09-9f08-c3f2cb1d44e1"
      },
      "execution_count": 24,
      "outputs": [
        {
          "output_type": "stream",
          "name": "stdout",
          "text": [
            "[0.1 0.2]\n",
            "[0.15 0.25]\n",
            "[0.2 0.3]\n",
            "[5. 5.]\n",
            "[5.1 5.1]\n",
            "[10. 10.]\n",
            "[1000. 1500.]\n",
            "{'core': [array([0.1, 0.2]), array([0.15, 0.25]), array([0.2, 0.3])], 'border': [array([5., 5.]), array([5.1, 5.1])], 'noise': [array([10., 10.]), array([1000., 1500.])]}\n"
          ]
        }
      ]
    }
  ]
}