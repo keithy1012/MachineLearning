{
  "nbformat": 4,
  "nbformat_minor": 0,
  "metadata": {
    "colab": {
      "provenance": [],
      "authorship_tag": "ABX9TyM7dip98HYLg8HMovemosyu",
      "include_colab_link": true
    },
    "kernelspec": {
      "name": "python3",
      "display_name": "Python 3"
    },
    "language_info": {
      "name": "python"
    }
  },
  "cells": [
    {
      "cell_type": "markdown",
      "metadata": {
        "id": "view-in-github",
        "colab_type": "text"
      },
      "source": [
        "<a href=\"https://colab.research.google.com/github/keithy1012/MachineLearning/blob/main/NeuralNetwork.ipynb\" target=\"_parent\"><img src=\"https://colab.research.google.com/assets/colab-badge.svg\" alt=\"Open In Colab\"/></a>"
      ]
    },
    {
      "cell_type": "code",
      "execution_count": null,
      "metadata": {
        "id": "IpmV51E81OvF"
      },
      "outputs": [],
      "source": [
        "import numpy as np\n",
        "\n",
        "class NeuralNetwork:\n",
        "  def __init__(self, input_size, hidden_layers=3, layer_width = 5, learning_rate = 0.01, activation_function = \"relu\", output_size = 1):\n",
        "    self.hidden_layers = hidden_layers\n",
        "    self.layer_width = layer_width\n",
        "    self.learning_rate = learning_rate\n",
        "    self.activation_function = activation_function\n",
        "    self.weights = [np.random.rand(input_size, layer_width)] + \\\n",
        "                       [np.random.rand(layer_width, layer_width) for _ in range(hidden_layers - 1)] + \\\n",
        "                       [np.random.rand(layer_width, output_size)]\n",
        "    self.biases = [np.random.rand(layer_width) for _ in range(hidden_layers)] + [np.random.rand(output_size)]\n",
        "\n",
        "  def relu(self, x):\n",
        "      return np.maximum(0, x)\n",
        "\n",
        "  def relu_derivative(self, x):\n",
        "      return np.where(x > 0, 1, 0)\n",
        "\n",
        "  def sigmoid(self, x):\n",
        "      return 1 / (1 + np.exp(-x))\n",
        "\n",
        "  def sigmoid_derivative(self, x):\n",
        "      sig = self.sigmoid(x)\n",
        "      return sig * (1 - sig)\n",
        "\n",
        "  def tanh(self, x):\n",
        "      return np.tanh(x)\n",
        "\n",
        "  def tanh_derivative(self, x):\n",
        "      return 1 - np.tanh(x)**2\n",
        "\n",
        "  def activation(self, x):\n",
        "      if self.activation_function == \"relu\":\n",
        "            return self.relu(x)\n",
        "      elif self.activation_function == \"sigmoid\":\n",
        "            return self.sigmoid(x)\n",
        "      else:\n",
        "            return self.tanh(x)\n",
        "\n",
        "  def activation_derivative(self, x):\n",
        "      if self.activation_function == \"relu\":\n",
        "            return self.relu_derivative(x)\n",
        "      elif self.activation_function == \"sigmoid\":\n",
        "            return self.sigmoid_derivative(x)\n",
        "      else:\n",
        "            return self.tanh_derivative(x)\n",
        "\n",
        "  def forwardPass(self, inputs):\n",
        "        self.layer_inputs = []  # Stores raw inputs to each layer\n",
        "        self.layer_outputs = [inputs]  # Stores activated outputs of each layer\n",
        "\n",
        "        # Forward pass through each hidden layer\n",
        "        for i in range(self.hidden_layers):\n",
        "            inputs = np.dot(inputs, self.weights[i]) + self.biases[i]\n",
        "            self.layer_inputs.append(inputs)\n",
        "            inputs = self.activation(inputs)\n",
        "            self.layer_outputs.append(inputs)\n",
        "\n",
        "        # Output layer forward pass (using linear activation for regression)\n",
        "        final_input = np.dot(inputs, self.weights[-1]) + self.biases[-1]\n",
        "        self.layer_inputs.append(final_input)\n",
        "        output = final_input  # Linear output for regression\n",
        "        self.layer_outputs.append(output)\n",
        "\n",
        "        return output\n",
        "\n",
        "  def loss(self, predictions, actual):\n",
        "        return np.sum(np.square(predictions - actual)) / 2\n",
        "\n",
        "  def backPropagation(self, X_train, y_train):\n",
        "        predictions = self.forwardPass(X_train)\n",
        "        output_error = predictions - y_train\n",
        "\n",
        "        delta_output = output_error * self.sigmoid_derivative(self.layer_inputs[-1])\n",
        "        weight_gradient = [np.dot(self.layer_outputs[-2].T, delta_output)]\n",
        "        bias_gradient = [delta_output]\n",
        "\n",
        "        delta = delta_output\n",
        "        for i in range(self.hidden_layers - 1, -1, -1):\n",
        "            layer_input = self.layer_inputs[i]\n",
        "            delta = np.dot(delta, self.weights[i + 1].T) * self.activation_derivative(layer_input)\n",
        "            weight_gradient.insert(0, np.dot(self.layer_outputs[i].T, delta))\n",
        "            bias_gradient.insert(0, delta)\n",
        "\n",
        "        for i in range(len(self.weights)):\n",
        "            self.weights[i] -= self.learning_rate * weight_gradient[i]\n",
        "            self.biases[i] -= self.learning_rate * np.sum(bias_gradient[i], axis=0)\n",
        "\n",
        "        return self.loss(predictions, y_train)"
      ]
    },
    {
      "cell_type": "code",
      "source": [
        "import numpy as np\n",
        "\n",
        "input_size = 4\n",
        "hidden_layers = 1\n",
        "layer_width = 5\n",
        "learning_rate = 1\n",
        "output_size = 4\n",
        "\n",
        "nn = NeuralNetwork(input_size = input_size, hidden_layers=hidden_layers, layer_width=layer_width, learning_rate=learning_rate, activation_function=\"sigmoid\", output_size = output_size)\n",
        "\n",
        "X_train = np.array([[1, 2, 3, 4]])\n",
        "y_train = np.array([[2, 4, 6, 8]])\n",
        "\n",
        "initial_predictions = nn.forwardPass(X_train)\n",
        "initial_loss = nn.loss(initial_predictions, y_train)\n",
        "print(f\"Initial loss: {initial_loss}\")\n",
        "\n",
        "epochs = 1000\n",
        "for epoch in range(epochs):\n",
        "    loss = nn.backPropagation(X_train, y_train)\n",
        "    if epoch % 100 == 0:\n",
        "        print(f\"Epoch {epoch}, Loss: {loss}\")\n",
        "\n",
        "final_predictions = nn.forwardPass(X_train)\n",
        "final_loss = nn.loss(final_predictions, y_train)\n",
        "print(f\"Final loss after training: {final_loss}\")\n",
        "\n",
        "print(\"Final predictions:\", final_predictions)\n",
        "print(\"True labels:\", y_train)\n"
      ],
      "metadata": {
        "colab": {
          "base_uri": "https://localhost:8080/"
        },
        "id": "uynwsvAPO4Ko",
        "outputId": "11554920-ea4e-4eca-a59c-4f7e3519fba3"
      },
      "execution_count": null,
      "outputs": [
        {
          "output_type": "stream",
          "name": "stdout",
          "text": [
            "Initial loss: 31.440779576020468\n",
            "Epoch 0, Loss: 31.440779576020468\n",
            "Epoch 100, Loss: 0.31485025972589764\n",
            "Epoch 200, Loss: 0.14301886616206505\n",
            "Epoch 300, Loss: 0.07562867103601476\n",
            "Epoch 400, Loss: 0.043008152109510825\n",
            "Epoch 500, Loss: 0.025553862485779438\n",
            "Epoch 600, Loss: 0.015633866332890076\n",
            "Epoch 700, Loss: 0.009764289736424186\n",
            "Epoch 800, Loss: 0.0061912120658494385\n",
            "Epoch 900, Loss: 0.003970426830773674\n",
            "Final loss after training: 0.0025684330952177397\n",
            "Final predictions: [[2.         4.00000005 6.00000056 7.92832807]]\n",
            "True labels: [[2 4 6 8]]\n"
          ]
        }
      ]
    }
  ]
}