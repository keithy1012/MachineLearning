{
  "nbformat": 4,
  "nbformat_minor": 0,
  "metadata": {
    "colab": {
      "provenance": [],
      "authorship_tag": "ABX9TyMtU5CI1PIxV7elFMGHsyKP",
      "include_colab_link": true
    },
    "kernelspec": {
      "name": "python3",
      "display_name": "Python 3"
    },
    "language_info": {
      "name": "python"
    }
  },
  "cells": [
    {
      "cell_type": "markdown",
      "metadata": {
        "id": "view-in-github",
        "colab_type": "text"
      },
      "source": [
        "<a href=\"https://colab.research.google.com/github/keithy1012/MachineLearning/blob/main/GaussianMixtureModel.ipynb\" target=\"_parent\"><img src=\"https://colab.research.google.com/assets/colab-badge.svg\" alt=\"Open In Colab\"/></a>"
      ]
    },
    {
      "cell_type": "code",
      "execution_count": null,
      "metadata": {
        "id": "jTOXhR_oZkh7"
      },
      "outputs": [],
      "source": [
        "import numpy as np\n",
        "class GaussianMixtureModel:\n",
        "    def __init__(self, n_components, max_iter=100, tol=1e-3):\n",
        "        self.n_components = n_components\n",
        "        self.max_iter = max_iter\n",
        "        self.tol = tol\n",
        "        self.weights = None\n",
        "        self.means = None\n",
        "        self.covariances = None\n",
        "\n",
        "    def initialize_parameters(self, X):\n",
        "      self.weights = np.full(self.n_components, 1/self.n_components)\n",
        "      self.means = X[np.random.choice(X.shape[0], self.n_components, replace=False)]\n",
        "      self.covariances = [np.cov(X.T) for _ in range(self.n_components)]\n",
        "\n",
        "    def gaussian_model(self, X, mean, covariance):\n",
        "      covariance_det = np.linalg.det(covariance)\n",
        "      covariance_inv = np.linalg.inv(covariance)\n",
        "      exponent = -0.5 * np.sum((X - mean) @ covariance_inv * (X - mean), axis=1)\n",
        "      return (1 / np.sqrt(2 * np.pi * covariance_det)) * np.exp(exponent)\n",
        "\n",
        "    def expectation_step(self, X):\n",
        "      probability = np.zeros((X.shape[0], self.n_components))\n",
        "      for i in range(self.n_components):\n",
        "        probability[:, i] = self.weights[i] * self.gaussian_model(X, self.means[i], self.covariances[i])\n",
        "\n",
        "      probability /= probability.sum(axis=1, keepdims=True)\n",
        "      return probability\n",
        "\n",
        "    def maximization_step(self, X):\n",
        "      probability = self.expectation_step(X)\n",
        "      self.weights = probability.mean(axis=0)\n",
        "      self.means = (X.T @ probability / self.weights).T\n",
        "\n",
        "      for i in range(self.n_components):\n",
        "        diff = X - self.means[i]\n",
        "        self.covariances[i] = diff.T @ np.diag(probability[:, i]) @ diff / self.weights[i]\n",
        "\n",
        "    def fit(self, X):\n",
        "      self.initialize_parameters(X)\n",
        "      for _ in range(self.max_iter):\n",
        "        old_means = self.means.copy()\n",
        "        old_weights = self.weights.copy()\n",
        "        old_covariances = self.covariances.copy()\n",
        "        self.maximization_step(X)\n",
        "        if (np.linalg.norm((np.array(self.means) - np.array(old_means)).tolist()) < self.tol) and (np.linalg.norm((np.array(self.weights) - np.array(old_weights)).tolist()) < self.tol) and (np.linalg.norm((np.array(self.covariances) - np.array(old_covariances)).tolist()) < self.tol):\n",
        "          break\n",
        "\n",
        "      return self.weights, self.means, self.covariances\n",
        "\n",
        "    def predict(self, X):\n",
        "      probability = self.expectation_step(X)\n",
        "      return probability, np.argmax(probability, axis=1)\n"
      ]
    },
    {
      "cell_type": "code",
      "source": [
        "components = 3\n",
        "gmm = GaussianMixtureModel(n_components=components)\n",
        "\n",
        "X = np.array([\n",
        "    [0.5, 1.2],\n",
        "    [1.8, 2.4],\n",
        "    [-0.6, 0.8],\n",
        "    [3.2, 5.1],\n",
        "    [3.8, 5.5],\n",
        "    [-2.1, 4.0],\n",
        "    [-2.5, 3.8],\n",
        "    [0.1, -0.2],\n",
        "    [3.0, 4.8],\n",
        "    [-1.8, 4.2],\n",
        "    [2.9, 5.0],\n",
        "    [-0.5, 0.6],\n",
        "    [3.5, 5.3],\n",
        "    [-2.0, 3.9],\n",
        "    [0.7, 1.0]\n",
        "]) * 100\n",
        "weights, means, covariances = gmm.fit(X)\n",
        "\n",
        "for i in range(components):\n",
        "    print(f\"Component {i+1}:\")\n",
        "    print(f\"  Weight: {weights[i]}\")\n",
        "    print(f\"  Mean: {means[i]}\")\n",
        "    print(f\"  Covariance:\")\n",
        "    print(covariances[i])\n",
        "    print()\n",
        "\n",
        "\n",
        "\n",
        "probs, max = gmm.predict(np.array([[1,2], [3,4]]))\n",
        "print(probs)\n",
        "print(max)"
      ],
      "metadata": {
        "colab": {
          "base_uri": "https://localhost:8080/"
        },
        "id": "YxE2X-qad2cD",
        "outputId": "35ed8abd-4188-4c91-b60f-9a9f59dca9d6"
      },
      "execution_count": null,
      "outputs": [
        {
          "output_type": "stream",
          "name": "stdout",
          "text": [
            "Component 1:\n",
            "  Weight: 0.36600916853534826\n",
            "  Mean: [1000. 4740.]\n",
            "  Covariance:\n",
            "[[1.37684e+07 6.21823e+07]\n",
            " [6.21823e+07 2.94128e+08]]\n",
            "\n",
            "Component 2:\n",
            "  Weight: 0.43244111414772785\n",
            "  Mean: [1000. 4740.]\n",
            "  Covariance:\n",
            "[[1.37684e+07 6.21823e+07]\n",
            " [6.21823e+07 2.94128e+08]]\n",
            "\n",
            "Component 3:\n",
            "  Weight: 0.2015497173169239\n",
            "  Mean: [1000. 4740.]\n",
            "  Covariance:\n",
            "[[1.37684e+07 6.21823e+07]\n",
            " [6.21823e+07 2.94128e+08]]\n",
            "\n",
            "1\n",
            "1\n"
          ]
        }
      ]
    }
  ]
}