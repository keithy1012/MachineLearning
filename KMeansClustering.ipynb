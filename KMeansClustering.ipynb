{
  "nbformat": 4,
  "nbformat_minor": 0,
  "metadata": {
    "colab": {
      "provenance": [],
      "authorship_tag": "ABX9TyOtNDVLMeuWAv2PPXtEnmfp",
      "include_colab_link": true
    },
    "kernelspec": {
      "name": "python3",
      "display_name": "Python 3"
    },
    "language_info": {
      "name": "python"
    }
  },
  "cells": [
    {
      "cell_type": "markdown",
      "metadata": {
        "id": "view-in-github",
        "colab_type": "text"
      },
      "source": [
        "<a href=\"https://colab.research.google.com/github/keithy1012/MachineLearning/blob/main/KMeansClustering.ipynb\" target=\"_parent\"><img src=\"https://colab.research.google.com/assets/colab-badge.svg\" alt=\"Open In Colab\"/></a>"
      ]
    },
    {
      "cell_type": "code",
      "execution_count": null,
      "metadata": {
        "id": "PamIk8eVfq7z"
      },
      "outputs": [],
      "source": [
        "import numpy as np\n",
        "\n",
        "class KMC:\n",
        "  def __init__(self, k, iterations):\n",
        "    self.k = k\n",
        "    self.centers = None\n",
        "    self.labels = None\n",
        "    self.iterations = iterations\n",
        "\n",
        "  def fit(self, X):\n",
        "    n_samples, n_features = X.shape\n",
        "    self.centers = X[np.random.choice(n_samples, self.k, replace=False)]\n",
        "    self.labels = np.zeros(n_samples, dtype=int)\n",
        "\n",
        "\n",
        "    for i in range(self.iterations):\n",
        "      for j in range(n_samples):\n",
        "        distances = np.linalg.norm(self.centers - X[j], axis=1)\n",
        "        self.labels[j] = np.argmin(distances)\n",
        "\n",
        "      for i in range(self.k):\n",
        "        cluster_points = X[self.labels == i]\n",
        "        if len(cluster_points) > 0:\n",
        "          self.centers[i] = np.mean(cluster_points, axis=0)\n",
        "\n",
        "  def predict(self, X):\n",
        "    distances = np.linalg.norm(self.centers[:, np.newaxis] - X, axis=2)\n",
        "    return np.argmin(distances, axis=0)\n",
        "\n",
        "\n"
      ]
    },
    {
      "cell_type": "code",
      "source": [
        "k=3\n",
        "kmc = KMC(k, 1000)\n",
        "\n",
        "kmc.fit(np.array([[1,2,3], [100,101, 102], [1000,1111,1200]]))\n",
        "\n",
        "for i in range(k):\n",
        "  print(kmc.centers[i])\n",
        "  print(kmc.labels[i])\n",
        "\n",
        "kmc.predict(np.array([1,2,3]))"
      ],
      "metadata": {
        "colab": {
          "base_uri": "https://localhost:8080/",
          "height": 211
        },
        "id": "inyOgcYqg2Kn",
        "outputId": "ea4e691a-ac0a-4e3f-98b2-58bc26d4e29e"
      },
      "execution_count": null,
      "outputs": [
        {
          "output_type": "error",
          "ename": "NameError",
          "evalue": "name 'KMC' is not defined",
          "traceback": [
            "\u001b[0;31m---------------------------------------------------------------------------\u001b[0m",
            "\u001b[0;31mNameError\u001b[0m                                 Traceback (most recent call last)",
            "\u001b[0;32m<ipython-input-1-837fc4758551>\u001b[0m in \u001b[0;36m<cell line: 2>\u001b[0;34m()\u001b[0m\n\u001b[1;32m      1\u001b[0m \u001b[0mk\u001b[0m\u001b[0;34m=\u001b[0m\u001b[0;36m3\u001b[0m\u001b[0;34m\u001b[0m\u001b[0;34m\u001b[0m\u001b[0m\n\u001b[0;32m----> 2\u001b[0;31m \u001b[0mkmc\u001b[0m \u001b[0;34m=\u001b[0m \u001b[0mKMC\u001b[0m\u001b[0;34m(\u001b[0m\u001b[0mk\u001b[0m\u001b[0;34m,\u001b[0m \u001b[0;36m1000\u001b[0m\u001b[0;34m)\u001b[0m\u001b[0;34m\u001b[0m\u001b[0;34m\u001b[0m\u001b[0m\n\u001b[0m\u001b[1;32m      3\u001b[0m \u001b[0;34m\u001b[0m\u001b[0m\n\u001b[1;32m      4\u001b[0m \u001b[0mkmc\u001b[0m\u001b[0;34m.\u001b[0m\u001b[0mfit\u001b[0m\u001b[0;34m(\u001b[0m\u001b[0mnp\u001b[0m\u001b[0;34m.\u001b[0m\u001b[0marray\u001b[0m\u001b[0;34m(\u001b[0m\u001b[0;34m[\u001b[0m\u001b[0;34m[\u001b[0m\u001b[0;36m1\u001b[0m\u001b[0;34m,\u001b[0m\u001b[0;36m2\u001b[0m\u001b[0;34m,\u001b[0m\u001b[0;36m3\u001b[0m\u001b[0;34m]\u001b[0m\u001b[0;34m,\u001b[0m \u001b[0;34m[\u001b[0m\u001b[0;36m100\u001b[0m\u001b[0;34m,\u001b[0m\u001b[0;36m101\u001b[0m\u001b[0;34m,\u001b[0m \u001b[0;36m102\u001b[0m\u001b[0;34m]\u001b[0m\u001b[0;34m,\u001b[0m \u001b[0;34m[\u001b[0m\u001b[0;36m1000\u001b[0m\u001b[0;34m,\u001b[0m\u001b[0;36m1111\u001b[0m\u001b[0;34m,\u001b[0m\u001b[0;36m1200\u001b[0m\u001b[0;34m]\u001b[0m\u001b[0;34m]\u001b[0m\u001b[0;34m)\u001b[0m\u001b[0;34m)\u001b[0m\u001b[0;34m\u001b[0m\u001b[0;34m\u001b[0m\u001b[0m\n\u001b[1;32m      5\u001b[0m \u001b[0;34m\u001b[0m\u001b[0m\n",
            "\u001b[0;31mNameError\u001b[0m: name 'KMC' is not defined"
          ]
        }
      ]
    }
  ]
}