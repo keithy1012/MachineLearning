{
  "nbformat": 4,
  "nbformat_minor": 0,
  "metadata": {
    "colab": {
      "provenance": [],
      "authorship_tag": "ABX9TyPsGn/1V1raZLOiIGVGcm03",
      "include_colab_link": true
    },
    "kernelspec": {
      "name": "python3",
      "display_name": "Python 3"
    },
    "language_info": {
      "name": "python"
    }
  },
  "cells": [
    {
      "cell_type": "markdown",
      "metadata": {
        "id": "view-in-github",
        "colab_type": "text"
      },
      "source": [
        "<a href=\"https://colab.research.google.com/github/keithy1012/MachineLearning/blob/main/NaiveBayes.ipynb\" target=\"_parent\"><img src=\"https://colab.research.google.com/assets/colab-badge.svg\" alt=\"Open In Colab\"/></a>"
      ]
    },
    {
      "cell_type": "code",
      "execution_count": 1,
      "metadata": {
        "id": "hkCTsosS_v8P"
      },
      "outputs": [],
      "source": [
        "class NaiveBayes:\n",
        "  def __init__(self):\n",
        "    return\n",
        "\n",
        "  def bayes(self, feature_index, class_index, features, classes):\n",
        "    class_count = sum(classes == class_index)\n",
        "\n",
        "    feature_class_count = sum((features[:, feature_index] == 1) & (classes == class_index))\n",
        "\n",
        "    return feature_class_count / class_count if class_count > 0 else 0\n",
        "\n",
        "  def predict(self, features, classes):\n",
        "    probabilities = {}\n",
        "    totalClass = sum(classes)\n",
        "    numFeatures = features.shape[1]\n",
        "\n",
        "    for k in range(len(classes)):\n",
        "      prob_classK = classes.iloc[k] / totalClass\n",
        "\n",
        "      prob_features_in_classk = 1\n",
        "      for n in range(numFeatures):\n",
        "        prob_features_in_classk *= self.bayes(n, k, features, classes)\n",
        "      print(\"prob_classK: \" , prob_classK)\n",
        "      print(\"prob_features_in_classk: \", prob_features_in_classk)\n",
        "      probabilities[classes[k]] = prob_classK * prob_features_in_classk\n",
        "\n",
        "    return probabilities\n"
      ]
    },
    {
      "cell_type": "code",
      "source": [
        "import numpy as np\n",
        "import pandas as pd\n",
        "features = np.array([\n",
        "            [1, 0],\n",
        "            [1, 1],\n",
        "            [0, 0],\n",
        "            [1, 0]\n",
        "        ])\n",
        "classes = pd.Series([0, 1, 0, 1])\n",
        "\n",
        "nb = NaiveBayes()\n",
        "\n",
        "nb.predict(features, classes)"
      ],
      "metadata": {
        "id": "H1ZwKTS2F6YX",
        "colab": {
          "base_uri": "https://localhost:8080/"
        },
        "outputId": "26c3d91b-d8f4-4a93-817c-090e63fcd9d9"
      },
      "execution_count": 2,
      "outputs": [
        {
          "output_type": "stream",
          "name": "stdout",
          "text": [
            "prob_classK:  0.0\n",
            "prob_features_in_classk:  0.0\n",
            "prob_classK:  0.5\n",
            "prob_features_in_classk:  0.5\n",
            "prob_classK:  0.0\n",
            "prob_features_in_classk:  0\n",
            "prob_classK:  0.5\n",
            "prob_features_in_classk:  0\n"
          ]
        },
        {
          "output_type": "execute_result",
          "data": {
            "text/plain": [
              "{0: 0.0, 1: 0.0}"
            ]
          },
          "metadata": {},
          "execution_count": 2
        }
      ]
    }
  ]
}